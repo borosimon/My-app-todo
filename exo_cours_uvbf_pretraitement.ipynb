{
  "nbformat": 4,
  "nbformat_minor": 0,
  "metadata": {
    "colab": {
      "provenance": [],
      "include_colab_link": true
    },
    "kernelspec": {
      "name": "python3",
      "display_name": "Python 3"
    },
    "language_info": {
      "name": "python"
    }
  },
  "cells": [
    {
      "cell_type": "markdown",
      "metadata": {
        "id": "view-in-github",
        "colab_type": "text"
      },
      "source": [
        "<a href=\"https://colab.research.google.com/github/borosimon/My-app-todo/blob/main/exo_cours_uvbf_pretraitement.ipynb\" target=\"_parent\"><img src=\"https://colab.research.google.com/assets/colab-badge.svg\" alt=\"Open In Colab\"/></a>"
      ]
    },
    {
      "cell_type": "markdown",
      "source": [
        "# import des biblioteque"
      ],
      "metadata": {
        "id": "TrRy7qPWGTX6"
      }
    },
    {
      "cell_type": "code",
      "source": [
        "import pandas as pd\n",
        "import nltk\n",
        "from nltk.tokenize import word_tokenize\n",
        "from nltk.stem import PorterStemmer, WordNetLemmatizer\n",
        "from nltk.corpus import stopwords\n",
        "from sklearn.feature_extraction.text import TfidfVectorizer"
      ],
      "metadata": {
        "id": "2C9dBjTUGXII"
      },
      "execution_count": null,
      "outputs": []
    },
    {
      "cell_type": "markdown",
      "source": [
        "#téléchargément les ressources nécessaires de NLTK"
      ],
      "metadata": {
        "id": "Dlz3m4OUGYRx"
      }
    },
    {
      "cell_type": "code",
      "source": [
        "nltk.download('punkt')\n",
        "nltk.download('wordnet')\n",
        "nltk.download('stopwords')"
      ],
      "metadata": {
        "colab": {
          "base_uri": "https://localhost:8080/"
        },
        "id": "4PYZdNnVGjUq",
        "outputId": "d0334ea1-6596-4214-f1fc-45b17563a189"
      },
      "execution_count": null,
      "outputs": [
        {
          "output_type": "stream",
          "name": "stderr",
          "text": [
            "[nltk_data] Downloading package punkt to /root/nltk_data...\n",
            "[nltk_data]   Unzipping tokenizers/punkt.zip.\n",
            "[nltk_data] Downloading package wordnet to /root/nltk_data...\n",
            "[nltk_data] Downloading package stopwords to /root/nltk_data...\n",
            "[nltk_data]   Unzipping corpora/stopwords.zip.\n"
          ]
        },
        {
          "output_type": "execute_result",
          "data": {
            "text/plain": [
              "True"
            ]
          },
          "metadata": {},
          "execution_count": 2
        }
      ]
    },
    {
      "cell_type": "markdown",
      "source": [
        "#chagrement et lecture du data set a pretraiter"
      ],
      "metadata": {
        "id": "TS5gm_sBGn8k"
      }
    },
    {
      "cell_type": "code",
      "source": [
        "fichier_excel = '/content/drive/MyDrive/Colab Notebooks/data2.xlsx'\n",
        "df = pd.read_excel(fichier_excel)\n",
        "print(df.columns)\n",
        "texte = df['A'][0]"
      ],
      "metadata": {
        "colab": {
          "base_uri": "https://localhost:8080/"
        },
        "id": "tAWsR6ylG6hS",
        "outputId": "b09540c0-e6ed-491f-81fb-14fbaa038ac1"
      },
      "execution_count": null,
      "outputs": [
        {
          "output_type": "stream",
          "name": "stdout",
          "text": [
            "Index(['A'], dtype='object')\n"
          ]
        }
      ]
    },
    {
      "cell_type": "markdown",
      "source": [
        "# Afficher le texte brut"
      ],
      "metadata": {
        "id": "VRDlu4-0Hdn6"
      }
    },
    {
      "cell_type": "code",
      "source": [
        "print(\"Texte brut:\", texte)"
      ],
      "metadata": {
        "colab": {
          "base_uri": "https://localhost:8080/"
        },
        "id": "DJuWZOnBH0OW",
        "outputId": "56997139-3c1c-441a-fb61-ce43543a3f5d"
      },
      "execution_count": null,
      "outputs": [
        {
          "output_type": "stream",
          "name": "stdout",
          "text": [
            "Texte brut: missions d assistances au montage de projet   rhu   projet  rhu cardiologie\n"
          ]
        }
      ]
    },
    {
      "cell_type": "markdown",
      "source": [
        "# 1. Tokenisation"
      ],
      "metadata": {
        "id": "bp4-VpT-H2Dd"
      }
    },
    {
      "cell_type": "code",
      "source": [
        "tokens = word_tokenize(texte)\n",
        "print(\"\\nTokenisation:\", tokens)"
      ],
      "metadata": {
        "colab": {
          "base_uri": "https://localhost:8080/"
        },
        "id": "KWykmyQjH6Ba",
        "outputId": "7ff1da47-fd6b-401b-c34a-64626cb4f176"
      },
      "execution_count": null,
      "outputs": [
        {
          "output_type": "stream",
          "name": "stdout",
          "text": [
            "\n",
            "Tokenisation: ['missions', 'd', 'assistances', 'au', 'montage', 'de', 'projet', 'rhu', 'projet', 'rhu', 'cardiologie']\n"
          ]
        }
      ]
    },
    {
      "cell_type": "markdown",
      "source": [
        "# 2. Stemming"
      ],
      "metadata": {
        "id": "DEQ9NVbGH-SS"
      }
    },
    {
      "cell_type": "code",
      "source": [
        "stemmer = PorterStemmer()\n",
        "stems = [stemmer.stem(token) for token in tokens]\n",
        "print(\"\\nStemming:\", stems)"
      ],
      "metadata": {
        "colab": {
          "base_uri": "https://localhost:8080/"
        },
        "id": "F89_J5CgIC-7",
        "outputId": "33aeaedf-9fac-4a7f-c63f-a384786e0e61"
      },
      "execution_count": null,
      "outputs": [
        {
          "output_type": "stream",
          "name": "stdout",
          "text": [
            "\n",
            "Stemming: ['mission', 'd', 'assist', 'au', 'montag', 'de', 'projet', 'rhu', 'projet', 'rhu', 'cardiologi']\n"
          ]
        }
      ]
    },
    {
      "cell_type": "markdown",
      "source": [
        "# 3. Lemmatisation"
      ],
      "metadata": {
        "id": "W6dzv1i-IErv"
      }
    },
    {
      "cell_type": "code",
      "source": [
        "lemmatizer = WordNetLemmatizer()\n",
        "lemmes = [lemmatizer.lemmatize(token) for token in tokens]\n",
        "print(\"\\nLemmatisation:\", lemmes)"
      ],
      "metadata": {
        "colab": {
          "base_uri": "https://localhost:8080/"
        },
        "id": "-5Nu9eI6IRY7",
        "outputId": "ccb03240-6213-4a07-8555-b606f1bcb4a0"
      },
      "execution_count": null,
      "outputs": [
        {
          "output_type": "stream",
          "name": "stdout",
          "text": [
            "\n",
            "Lemmatisation: ['mission', 'd', 'assistance', 'au', 'montage', 'de', 'projet', 'rhu', 'projet', 'rhu', 'cardiologie']\n"
          ]
        }
      ]
    },
    {
      "cell_type": "markdown",
      "source": [
        "# 4. Suppression des Stop Words"
      ],
      "metadata": {
        "id": "-ZynfHEYIa-a"
      }
    },
    {
      "cell_type": "code",
      "source": [
        "stop_words = set(stopwords.words('french'))\n",
        "tokens_sans_stopwords = [token for token in tokens if token.lower() not in stop_words]\n",
        "print(\"\\nSuppression des Stop Words:\", tokens_sans_stopwords)"
      ],
      "metadata": {
        "colab": {
          "base_uri": "https://localhost:8080/"
        },
        "id": "I5DDiJVrIg9W",
        "outputId": "84274c24-1491-40a0-cb34-6667738c8e0d"
      },
      "execution_count": null,
      "outputs": [
        {
          "output_type": "stream",
          "name": "stdout",
          "text": [
            "\n",
            "Suppression des Stop Words: ['missions', 'assistances', 'montage', 'projet', 'rhu', 'projet', 'rhu', 'cardiologie']\n"
          ]
        }
      ]
    },
    {
      "cell_type": "markdown",
      "source": [
        "# 5. Vectorisation avec TF-IDF"
      ],
      "metadata": {
        "id": "bwEJbFUvIiYm"
      }
    },
    {
      "cell_type": "code",
      "source": [
        "tfidf = TfidfVectorizer()\n",
        "tfidf_matrix = tfidf.fit_transform([' '.join(tokens_sans_stopwords)])\n",
        "print(\"\\nVectorisation avec TF-IDF:\\n\", tfidf_matrix.toarray())\n",
        "print(\"\\nMots correspondants:\", tfidf.get_feature_names_out())"
      ],
      "metadata": {
        "colab": {
          "base_uri": "https://localhost:8080/"
        },
        "id": "kZjxG6l8Iohe",
        "outputId": "4e8c74f7-47b4-4d76-bf48-083bc66f60bf"
      },
      "execution_count": null,
      "outputs": [
        {
          "output_type": "stream",
          "name": "stdout",
          "text": [
            "\n",
            "Vectorisation avec TF-IDF:\n",
            " [[0.57735027 0.57735027 0.57735027]]\n",
            "\n",
            "Mots correspondants: ['electronique' 'lot' 'sport']\n"
          ]
        }
      ]
    }
  ]
}